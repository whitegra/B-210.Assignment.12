{
  "nbformat": 4,
  "nbformat_minor": 0,
  "metadata": {
    "colab": {
      "provenance": []
    },
    "kernelspec": {
      "name": "python3",
      "display_name": "Python 3"
    },
    "language_info": {
      "name": "python"
    }
  },
  "cells": [
    {
      "cell_type": "markdown",
      "source": [],
      "metadata": {
        "id": "7Srk3qXSoCXh"
      }
    },
    {
      "cell_type": "code",
      "source": [
        "# to start, import pandas. I know we have not learned this in class, but it makes more sense for this problem\n",
        "import pandas as pd\n",
        "\n",
        "# FIRST: create pandas dataframe (and csv file) for airport codes mapping to corresponding state and city:\n",
        "\n",
        "# read csv(s) and create pandas dataframe(s)\n",
        "stations_data_df = pd.read_csv('Stations.csv')\n",
        "complete_data_df = pd.read_csv('CompleteData.csv')\n",
        "\n",
        "# SECOND: prompt user to enter the number of cities they want to learn about:\n",
        "\n",
        "cities = int(input(\"enter the number of popular cities you would like to know about: \"))\n",
        "\n",
        "# THIRD: create pandas dataframe (and csv file) for airport codes mapping to corresponding state and city:\n",
        "\n",
        "# for the new stations dataset, we're only interested in these columns:\n",
        "new_stations_df = stations_data_df[['AIRPORT',  'AIRPORT_STATE_NAME', 'DISPLAY_AIRPORT_CITY_NAME_FULL']]\n",
        "# now to rename the columns in the new dataset: you can use '.columns' in pandas to specify this:\n",
        "new_stations_df.columns = ['airport_code', 'airport_state', 'airport_city']\n",
        "# now to create the actual file using .csv in pandas:\n",
        "new_stations_df.to_csv('stations_sorted.csv', index=False) # DO NOT ADD AN =, IT\"S AN ARGUMENT\n",
        "# in pandas, you have to include false index or else it will add a column to correspond to row numbers in the csv and that is not needed.\n",
        "\n",
        "# FOURTH: from complete_data file, count the values (number of times) an airport code appears for departures and arrivals:\n",
        "departure_counts = complete_data_df['ORIGIN'].value_counts().reset_index(name='departures') # reset index to new column naming, count values in dataframe, add to dataframe\n",
        "departure_counts.columns = ['airport_code', 'departures'] # new column names for this dataframe\n",
        "arrival_counts = complete_data_df['DEST'].value_counts().reset_index(name='arrivals') # same\n",
        "arrival_counts.columns = ['airport_code', 'arrivals'] #same\n",
        "\n",
        "# FIFTH: merge data from departures and arrivals into the new stations dataset to map the corresponding city and state locations to seperate files:\n",
        "         # I am merging on the \"airport_codes\" column, since there are matching values in the complete data sheet. Merge left using \"how\" function to ensure proper indexing,\n",
        "         # and to ensure that it merges in the correct column (far left)\n",
        "airport_departure_data = pd.merge(departure_counts, new_stations_df, on='airport_code', how='left')\n",
        "airport_arrival_data = pd.merge(arrival_counts, new_stations_df, on='airport_code', how='left')\n",
        "\n",
        "# Now, create two seperate files with the departing and arrivial information:\n",
        "\n",
        "   # first, only include the number of data points as specified by the user in the 'cities' variable(n):\n",
        "   # I don't know what a tsv file is, so I did have to look it up. It's just a tab seperated csv file, so you can include 'sep' function and '/t' to seperate by tabs in csv\n",
        "   # same issue as before, index=False to avoid unwanted indexing in pandas file\n",
        "airport_departure_data.head(cities).to_csv('popular_departing_airports.tsv', sep='\\t', index=False) # 'head' is like a headcount. it just takes the top n values from dataset, like slicing\n",
        "airport_arrival_data.head(cities).to_csv('popular_arriving_airports.tsv', sep='\\t', index=False)\n",
        "\n",
        "\n"
      ],
      "metadata": {
        "colab": {
          "base_uri": "https://localhost:8080/"
        },
        "id": "n18m06K6oDOp",
        "outputId": "d2622fb2-701a-454a-aa52-9c9c7f94425e"
      },
      "execution_count": null,
      "outputs": [
        {
          "name": "stdout",
          "output_type": "stream",
          "text": [
            "enter the number of popular cities you would like to know about: 25\n"
          ]
        }
      ]
    }
  ]
}